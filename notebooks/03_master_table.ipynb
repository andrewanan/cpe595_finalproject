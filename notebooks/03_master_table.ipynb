{
 "cells": [
  {
   "cell_type": "code",
   "execution_count": 1,
   "id": "a6055b10",
   "metadata": {},
   "outputs": [],
   "source": [
    "#merge btc price and sentiment data"
   ]
  },
  {
   "cell_type": "code",
   "execution_count": 5,
   "id": "a27023b6",
   "metadata": {},
   "outputs": [
    {
     "data": {
      "text/html": [
       "<div>\n",
       "<style scoped>\n",
       "    .dataframe tbody tr th:only-of-type {\n",
       "        vertical-align: middle;\n",
       "    }\n",
       "\n",
       "    .dataframe tbody tr th {\n",
       "        vertical-align: top;\n",
       "    }\n",
       "\n",
       "    .dataframe thead th {\n",
       "        text-align: right;\n",
       "    }\n",
       "</style>\n",
       "<table border=\"1\" class=\"dataframe\">\n",
       "  <thead>\n",
       "    <tr style=\"text-align: right;\">\n",
       "      <th></th>\n",
       "      <th>Date</th>\n",
       "      <th>Close</th>\n",
       "      <th>sentiment</th>\n",
       "      <th>tweet_cnt</th>\n",
       "    </tr>\n",
       "  </thead>\n",
       "  <tbody>\n",
       "    <tr>\n",
       "      <th>0</th>\n",
       "      <td>2012-01-01</td>\n",
       "      <td>4.84</td>\n",
       "      <td>0.0</td>\n",
       "      <td>0.0</td>\n",
       "    </tr>\n",
       "    <tr>\n",
       "      <th>1</th>\n",
       "      <td>2012-01-02</td>\n",
       "      <td>5.00</td>\n",
       "      <td>0.0</td>\n",
       "      <td>0.0</td>\n",
       "    </tr>\n",
       "    <tr>\n",
       "      <th>2</th>\n",
       "      <td>2012-01-03</td>\n",
       "      <td>5.29</td>\n",
       "      <td>0.0</td>\n",
       "      <td>0.0</td>\n",
       "    </tr>\n",
       "    <tr>\n",
       "      <th>3</th>\n",
       "      <td>2012-01-04</td>\n",
       "      <td>5.57</td>\n",
       "      <td>0.0</td>\n",
       "      <td>0.0</td>\n",
       "    </tr>\n",
       "    <tr>\n",
       "      <th>4</th>\n",
       "      <td>2012-01-05</td>\n",
       "      <td>6.42</td>\n",
       "      <td>0.0</td>\n",
       "      <td>0.0</td>\n",
       "    </tr>\n",
       "  </tbody>\n",
       "</table>\n",
       "</div>"
      ],
      "text/plain": [
       "        Date  Close  sentiment  tweet_cnt\n",
       "0 2012-01-01   4.84        0.0        0.0\n",
       "1 2012-01-02   5.00        0.0        0.0\n",
       "2 2012-01-03   5.29        0.0        0.0\n",
       "3 2012-01-04   5.57        0.0        0.0\n",
       "4 2012-01-05   6.42        0.0        0.0"
      ]
     },
     "execution_count": 5,
     "metadata": {},
     "output_type": "execute_result"
    }
   ],
   "source": [
    "import pandas as pd, pathlib\n",
    "PROC = pathlib.Path(\"../data/processed\")\n",
    "\n",
    "btc  = pd.read_csv(PROC/\"btc_daily.csv\",     parse_dates=[\"Date\"])\n",
    "sent = pd.read_csv(PROC/\"btc_sentiment.csv\", parse_dates=[\"Date\"])\n",
    "\n",
    "# make datetime consistent\n",
    "btc[\"Date\"]  = btc[\"Date\"].dt.tz_localize(None)\n",
    "sent[\"Date\"] = sent[\"Date\"].dt.tz_localize(None)\n",
    "\n",
    "\n",
    "merged = (\n",
    "    btc.merge(sent, on=\"Date\", how=\"left\")\n",
    "       .fillna({\"sentiment\": 0, \"tweet_cnt\": 0})\n",
    "       .sort_values(\"Date\")\n",
    ")\n",
    "\n",
    "merged.to_csv(PROC/\"btc_master.csv\", index=False)\n",
    "merged.head()\n"
   ]
  }
 ],
 "metadata": {
  "kernelspec": {
   "display_name": "crypto-sentiment",
   "language": "python",
   "name": "python3"
  },
  "language_info": {
   "codemirror_mode": {
    "name": "ipython",
    "version": 3
   },
   "file_extension": ".py",
   "mimetype": "text/x-python",
   "name": "python",
   "nbconvert_exporter": "python",
   "pygments_lexer": "ipython3",
   "version": "3.12.4"
  }
 },
 "nbformat": 4,
 "nbformat_minor": 5
}
