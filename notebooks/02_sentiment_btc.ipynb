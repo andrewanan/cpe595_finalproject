{
 "cells": [
  {
   "cell_type": "code",
   "execution_count": 9,
   "id": "9df8ec08",
   "metadata": {},
   "outputs": [],
   "source": [
    "import pandas as pd, numpy as np, re, time\n",
    "from vaderSentiment.vaderSentiment import SentimentIntensityAnalyzer\n",
    "from pathlib import Path\n",
    "\n",
    "RAW  = Path(\"../data/raw\")\n",
    "PROC = Path(\"../data/processed\"); PROC.mkdir(exist_ok=True, parents=True)\n",
    "\n",
    "an = SentimentIntensityAnalyzer()\n",
    "#clean tweets to remove unneccesary info\n",
    "def clean(txt: str) -> str:\n",
    "    txt = re.sub(r\"http\\S+\", \"\", str(txt))   \n",
    "    txt = re.sub(r\"@\\w+\", \"\", txt)           \n",
    "    return txt.lower()\n"
   ]
  },
  {
   "cell_type": "code",
   "execution_count": 10,
   "id": "a5c6b3e1",
   "metadata": {},
   "outputs": [
    {
     "name": "stdout",
     "output_type": "stream",
     "text": [
      "Columns = ['user_name', 'user_location', 'user_description', 'user_created', 'user_followers', 'user_friends', 'user_favourites', 'user_verified', 'date', 'text', 'hashtags', 'source', 'is_retweet']\n",
      "Using TIME_COL = date\n"
     ]
    }
   ],
   "source": [
    "hdr = pd.read_csv(RAW/\"Bitcoin_tweets.csv\", nrows=0).columns.tolist()\n",
    "print(\"Columns =\", hdr)\n",
    "TIME_COL  = \"date\" if \"date\" in hdr else (\n",
    "            \"timestamp\" if \"timestamp\" in hdr else (\n",
    "            \"created_at\" if \"created_at\" in hdr else None))\n",
    "if TIME_COL is None:\n",
    "    raise ValueError(\"Cannot locate a date/timestamp column in tweet CSV.\")\n",
    "print(\"Using TIME_COL =\", TIME_COL)\n"
   ]
  },
  {
   "cell_type": "code",
   "execution_count": 11,
   "id": "391d8256",
   "metadata": {},
   "outputs": [
    {
     "name": "stdout",
     "output_type": "stream",
     "text": [
      "Scanning Bitcoin_tweets.csv\n",
      "Scanning Bitcoin_tweets_dataset_2.csv\n"
     ]
    }
   ],
   "source": [
    "import numpy as np\n",
    "\n",
    "TIME_COL = \"date\"       \n",
    "TEXT_COL = \"text\"       \n",
    "\n",
    "daily = {}\n",
    "\n",
    "\n",
    "def ingest_csv(fname):\n",
    "\n",
    "    for chunk in pd.read_csv(\n",
    "            RAW / fname,\n",
    "            usecols=[TIME_COL, TEXT_COL],\n",
    "            chunksize=100_000,\n",
    "            engine=\"python\",\n",
    "            encoding=\"utf-8\",\n",
    "            on_bad_lines=\"skip\"\n",
    "            ):\n",
    "\n",
    "        #timestemp -> datetime\n",
    "        if np.issubdtype(chunk[TIME_COL].dtype, np.number):\n",
    "            \n",
    "            unit = \"ms\" if chunk[TIME_COL].iloc[0] > 1e11 else \"s\"\n",
    "            chunk[TIME_COL] = pd.to_datetime(chunk[TIME_COL], unit=unit, utc=True)\n",
    "        else:\n",
    "            chunk[TIME_COL] = pd.to_datetime(chunk[TIME_COL], errors=\"coerce\", utc=True)\n",
    "\n",
    "        chunk = chunk.dropna(subset=[TIME_COL])    \n",
    "        chunk[\"clean\"] = chunk[TEXT_COL].map(clean)\n",
    "        chunk[\"compound\"] = chunk[\"clean\"].map(lambda t: an.polarity_scores(t)[\"compound\"])\n",
    "\n",
    "        grp = chunk.groupby(chunk[TIME_COL].dt.date)[\"compound\"].mean()\n",
    "        for d, v in grp.items():\n",
    "            daily.setdefault(d, []).append(v)\n",
    "\n",
    "for f in [\"Bitcoin_tweets.csv\", \"Bitcoin_tweets_dataset_2.csv\"]:\n",
    "    print(\"Scanning\", f)\n",
    "    ingest_csv(f)\n"
   ]
  },
  {
   "cell_type": "code",
   "execution_count": 13,
   "id": "192a0e34",
   "metadata": {},
   "outputs": [
    {
     "data": {
      "text/html": [
       "<div>\n",
       "<style scoped>\n",
       "    .dataframe tbody tr th:only-of-type {\n",
       "        vertical-align: middle;\n",
       "    }\n",
       "\n",
       "    .dataframe tbody tr th {\n",
       "        vertical-align: top;\n",
       "    }\n",
       "\n",
       "    .dataframe thead th {\n",
       "        text-align: right;\n",
       "    }\n",
       "</style>\n",
       "<table border=\"1\" class=\"dataframe\">\n",
       "  <thead>\n",
       "    <tr style=\"text-align: right;\">\n",
       "      <th></th>\n",
       "      <th>Date</th>\n",
       "      <th>sentiment</th>\n",
       "      <th>tweet_cnt</th>\n",
       "    </tr>\n",
       "  </thead>\n",
       "  <tbody>\n",
       "    <tr>\n",
       "      <th>0</th>\n",
       "      <td>2021-02-05</td>\n",
       "      <td>0.132161</td>\n",
       "      <td>1</td>\n",
       "    </tr>\n",
       "    <tr>\n",
       "      <th>1</th>\n",
       "      <td>2021-02-06</td>\n",
       "      <td>0.144910</td>\n",
       "      <td>1</td>\n",
       "    </tr>\n",
       "    <tr>\n",
       "      <th>2</th>\n",
       "      <td>2021-02-07</td>\n",
       "      <td>0.152582</td>\n",
       "      <td>1</td>\n",
       "    </tr>\n",
       "    <tr>\n",
       "      <th>3</th>\n",
       "      <td>2021-02-08</td>\n",
       "      <td>0.164795</td>\n",
       "      <td>1</td>\n",
       "    </tr>\n",
       "    <tr>\n",
       "      <th>4</th>\n",
       "      <td>2021-02-09</td>\n",
       "      <td>0.159723</td>\n",
       "      <td>1</td>\n",
       "    </tr>\n",
       "  </tbody>\n",
       "</table>\n",
       "</div>"
      ],
      "text/plain": [
       "         Date  sentiment  tweet_cnt\n",
       "0  2021-02-05   0.132161          1\n",
       "1  2021-02-06   0.144910          1\n",
       "2  2021-02-07   0.152582          1\n",
       "3  2021-02-08   0.164795          1\n",
       "4  2021-02-09   0.159723          1"
      ]
     },
     "execution_count": 13,
     "metadata": {},
     "output_type": "execute_result"
    }
   ],
   "source": [
    "sent_df = pd.DataFrame({\n",
    "    \"Date\": list(daily.keys()),\n",
    "    \"sentiment\": [np.mean(v) for v in daily.values()],\n",
    "    \"tweet_cnt\": [len(v) for v in daily.values()]\n",
    "}).sort_values(\"Date\")\n",
    "\n",
    "sent_df.to_csv(PROC / \"btc_sentiment.csv\", index=False)\n",
    "sent_df.head()\n"
   ]
  }
 ],
 "metadata": {
  "kernelspec": {
   "display_name": "crypto-sentiment",
   "language": "python",
   "name": "python3"
  },
  "language_info": {
   "codemirror_mode": {
    "name": "ipython",
    "version": 3
   },
   "file_extension": ".py",
   "mimetype": "text/x-python",
   "name": "python",
   "nbconvert_exporter": "python",
   "pygments_lexer": "ipython3",
   "version": "3.12.4"
  }
 },
 "nbformat": 4,
 "nbformat_minor": 5
}
