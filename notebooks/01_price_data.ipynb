{
 "cells": [
  {
   "cell_type": "code",
   "execution_count": 10,
   "id": "2f5844c1",
   "metadata": {},
   "outputs": [],
   "source": [
    "import pandas as pd\n",
    "from pathlib import Path\n",
    "\n",
    "RAW  = Path(\"../data/raw\")\n",
    "PROC = Path(\"../data/processed\")\n",
    "PROC.mkdir(exist_ok=True, parents=True)\n"
   ]
  },
  {
   "cell_type": "code",
   "execution_count": 11,
   "id": "2017f107",
   "metadata": {},
   "outputs": [
    {
     "name": "stdout",
     "output_type": "stream",
     "text": [
      "['Timestamp', 'Open', 'High', 'Low', 'Close', 'Volume', 'datetime']\n"
     ]
    }
   ],
   "source": [
    "import pandas as pd, itertools, pathlib\n",
    "RAW = pathlib.Path(\"../data/raw\")\n",
    "\n",
    "# get column names\n",
    "cols = pd.read_csv(RAW/\"btcusd_1-min_data.csv\", nrows=0).columns.tolist()\n",
    "print(cols)\n"
   ]
  },
  {
   "cell_type": "code",
   "execution_count": 12,
   "id": "70452ff8",
   "metadata": {},
   "outputs": [
    {
     "name": "stderr",
     "output_type": "stream",
     "text": [
      "/var/folders/c_/985w9gtd70x2fc99qwlqsv5c0000gn/T/ipykernel_16318/1663276641.py:8: DtypeWarning: Columns (6) have mixed types. Specify dtype option on import or set low_memory=False.\n",
      "  btc = pd.read_csv(RAW / \"btcusd_1-min_data.csv\")\n"
     ]
    },
    {
     "name": "stdout",
     "output_type": "stream",
     "text": [
      "                           Close\n",
      "Date                            \n",
      "2012-01-01 00:00:00+00:00   4.84\n",
      "2012-01-02 00:00:00+00:00   5.00\n",
      "2012-01-03 00:00:00+00:00   5.29\n",
      "2012-01-04 00:00:00+00:00   5.57\n",
      "2012-01-05 00:00:00+00:00   6.42\n",
      "Index dtype : datetime64[ns, UTC]\n"
     ]
    }
   ],
   "source": [
    "import pandas as pd, numpy as np, pathlib\n",
    "\n",
    "RAW  = pathlib.Path(\"../data/raw\")\n",
    "PROC = pathlib.Path(\"../data/processed\")\n",
    "PROC.mkdir(parents=True, exist_ok=True)\n",
    "\n",
    "# read file\n",
    "btc = pd.read_csv(RAW / \"btcusd_1-min_data.csv\")\n",
    "\n",
    "# convert to datetime\n",
    "btc[\"Date\"] = pd.to_datetime(btc[\"Timestamp\"], unit=\"s\", utc=True)   \n",
    "\n",
    "# clean columns\n",
    "btc = (\n",
    "    btc.rename(columns=lambda c: \"Close\" if c.lower() == \"close\" else c)\n",
    "       .set_index(\"Date\")\n",
    "       .sort_index()\n",
    ")\n",
    "\n",
    "# 1min -> 1day\n",
    "btc_daily = btc[\"Close\"].resample(\"1D\").last().to_frame(\"Close\")\n",
    "\n",
    "btc_daily.to_csv(PROC / \"btc_daily.csv\")\n",
    "print(btc_daily.head())\n",
    "print(\"Index dtype :\", btc_daily.index.dtype)\n"
   ]
  },
  {
   "cell_type": "code",
   "execution_count": null,
   "id": "dc0f9f32",
   "metadata": {},
   "outputs": [],
   "source": []
  }
 ],
 "metadata": {
  "kernelspec": {
   "display_name": "crypto-sentiment",
   "language": "python",
   "name": "python3"
  },
  "language_info": {
   "codemirror_mode": {
    "name": "ipython",
    "version": 3
   },
   "file_extension": ".py",
   "mimetype": "text/x-python",
   "name": "python",
   "nbconvert_exporter": "python",
   "pygments_lexer": "ipython3",
   "version": "3.12.4"
  }
 },
 "nbformat": 4,
 "nbformat_minor": 5
}
